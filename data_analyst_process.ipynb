{
 "cells": [
  {
   "cell_type": "code",
   "execution_count": 4,
   "id": "217d5e95",
   "metadata": {},
   "outputs": [],
   "source": [
    "import numpy as np\n",
    "import pandas as pd\n",
    "import matplotlib.pyplot as plt\n",
    "%matplotlib inline\n",
    "import seaborn as sns"
   ]
  },
  {
   "cell_type": "code",
   "execution_count": 5,
   "id": "51138983",
   "metadata": {},
   "outputs": [],
   "source": [
    "df=pd.read_csv('trans_data2.csv',encoding='unicode_escape')"
   ]
  },
  {
   "cell_type": "code",
   "execution_count": 6,
   "id": "4cfb262a",
   "metadata": {},
   "outputs": [
    {
     "data": {
      "text/plain": [
       "(1049, 7)"
      ]
     },
     "execution_count": 6,
     "metadata": {},
     "output_type": "execute_result"
    }
   ],
   "source": [
    "df.shape\n"
   ]
  },
  {
   "cell_type": "code",
   "execution_count": 7,
   "id": "566065a9",
   "metadata": {},
   "outputs": [
    {
     "data": {
      "text/html": [
       "<div>\n",
       "<style scoped>\n",
       "    .dataframe tbody tr th:only-of-type {\n",
       "        vertical-align: middle;\n",
       "    }\n",
       "\n",
       "    .dataframe tbody tr th {\n",
       "        vertical-align: top;\n",
       "    }\n",
       "\n",
       "    .dataframe thead th {\n",
       "        text-align: right;\n",
       "    }\n",
       "</style>\n",
       "<table border=\"1\" class=\"dataframe\">\n",
       "  <thead>\n",
       "    <tr style=\"text-align: right;\">\n",
       "      <th></th>\n",
       "      <th>Unnamed: 0</th>\n",
       "      <th>Unnamed: 1</th>\n",
       "      <th></th>\n",
       "      <th>Unnamed: 3</th>\n",
       "      <th>Unnamed: 4</th>\n",
       "      <th>Unnamed: 5</th>\n",
       "      <th>Unnamed: 6</th>\n",
       "    </tr>\n",
       "  </thead>\n",
       "  <tbody>\n",
       "    <tr>\n",
       "      <th>0</th>\n",
       "      <td>NaN</td>\n",
       "      <td>NaN</td>\n",
       "      <td>NaN</td>\n",
       "      <td>NaN</td>\n",
       "      <td>NaN</td>\n",
       "      <td>NaN</td>\n",
       "      <td>NaN</td>\n",
       "    </tr>\n",
       "    <tr>\n",
       "      <th>1</th>\n",
       "      <td>NaN</td>\n",
       "      <td>NaN</td>\n",
       "      <td>NaN</td>\n",
       "      <td>NaN</td>\n",
       "      <td>NaN</td>\n",
       "      <td>NaN</td>\n",
       "      <td>NaN</td>\n",
       "    </tr>\n",
       "    <tr>\n",
       "      <th>2</th>\n",
       "      <td>NaN</td>\n",
       "      <td>NaN</td>\n",
       "      <td>NaN</td>\n",
       "      <td>NaN</td>\n",
       "      <td>NaN</td>\n",
       "      <td>NaN</td>\n",
       "      <td>NaN</td>\n",
       "    </tr>\n",
       "    <tr>\n",
       "      <th>3</th>\n",
       "      <td>NaN</td>\n",
       "      <td>NaN</td>\n",
       "      <td>NaN</td>\n",
       "      <td>NaN</td>\n",
       "      <td>NaN</td>\n",
       "      <td>NaN</td>\n",
       "      <td>NaN</td>\n",
       "    </tr>\n",
       "    <tr>\n",
       "      <th>4</th>\n",
       "      <td>NaN</td>\n",
       "      <td>NaN</td>\n",
       "      <td>NaN</td>\n",
       "      <td>NaN</td>\n",
       "      <td>NaN</td>\n",
       "      <td>NaN</td>\n",
       "      <td>NaN</td>\n",
       "    </tr>\n",
       "    <tr>\n",
       "      <th>...</th>\n",
       "      <td>...</td>\n",
       "      <td>...</td>\n",
       "      <td>...</td>\n",
       "      <td>...</td>\n",
       "      <td>...</td>\n",
       "      <td>...</td>\n",
       "      <td>...</td>\n",
       "    </tr>\n",
       "    <tr>\n",
       "      <th>1044</th>\n",
       "      <td>2024</td>\n",
       "      <td>2024</td>\n",
       "      <td>UPI/CR/447446133579/PURAM</td>\n",
       "      <td>FROM</td>\n",
       "      <td>NaN</td>\n",
       "      <td>NaN</td>\n",
       "      <td>NaN</td>\n",
       "    </tr>\n",
       "    <tr>\n",
       "      <th>1045</th>\n",
       "      <td>NaN</td>\n",
       "      <td>NaN</td>\n",
       "      <td>RA/UTIB/9908108060/Payme-</td>\n",
       "      <td>4.89773E+12</td>\n",
       "      <td>NaN</td>\n",
       "      <td>NaN</td>\n",
       "      <td>NaN</td>\n",
       "    </tr>\n",
       "    <tr>\n",
       "      <th>1046</th>\n",
       "      <td>?????? Please do not share your ATM, Debit/Cre...</td>\n",
       "      <td>NaN</td>\n",
       "      <td>NaN</td>\n",
       "      <td>NaN</td>\n",
       "      <td>NaN</td>\n",
       "      <td>NaN</td>\n",
       "      <td>NaN</td>\n",
       "    </tr>\n",
       "    <tr>\n",
       "      <th>1047</th>\n",
       "      <td>with anyone over mail, SMS, phone call or any ...</td>\n",
       "      <td>NaN</td>\n",
       "      <td>NaN</td>\n",
       "      <td>NaN</td>\n",
       "      <td>NaN</td>\n",
       "      <td>NaN</td>\n",
       "      <td>NaN</td>\n",
       "    </tr>\n",
       "    <tr>\n",
       "      <th>1048</th>\n",
       "      <td>?? **This is a computer generated statement an...</td>\n",
       "      <td>NaN</td>\n",
       "      <td>NaN</td>\n",
       "      <td>NaN</td>\n",
       "      <td>NaN</td>\n",
       "      <td>NaN</td>\n",
       "      <td>NaN</td>\n",
       "    </tr>\n",
       "  </tbody>\n",
       "</table>\n",
       "<p>1049 rows × 7 columns</p>\n",
       "</div>"
      ],
      "text/plain": [
       "                                             Unnamed: 0 Unnamed: 1  \\\n",
       "0                                                   NaN        NaN   \n",
       "1                                                   NaN        NaN   \n",
       "2                                                   NaN        NaN   \n",
       "3                                                   NaN        NaN   \n",
       "4                                                   NaN        NaN   \n",
       "...                                                 ...        ...   \n",
       "1044                                               2024       2024   \n",
       "1045                                                NaN        NaN   \n",
       "1046  ?????? Please do not share your ATM, Debit/Cre...        NaN   \n",
       "1047  with anyone over mail, SMS, phone call or any ...        NaN   \n",
       "1048  ?? **This is a computer generated statement an...        NaN   \n",
       "\n",
       "                                  Unnamed: 3 Unnamed: 4 Unnamed: 5 Unnamed: 6  \n",
       "0                           NaN          NaN        NaN        NaN        NaN  \n",
       "1                           NaN          NaN        NaN        NaN        NaN  \n",
       "2                           NaN          NaN        NaN        NaN        NaN  \n",
       "3                           NaN          NaN        NaN        NaN        NaN  \n",
       "4                           NaN          NaN        NaN        NaN        NaN  \n",
       "...                         ...          ...        ...        ...        ...  \n",
       "1044  UPI/CR/447446133579/PURAM         FROM        NaN        NaN        NaN  \n",
       "1045  RA/UTIB/9908108060/Payme-  4.89773E+12        NaN        NaN        NaN  \n",
       "1046                        NaN          NaN        NaN        NaN        NaN  \n",
       "1047                        NaN          NaN        NaN        NaN        NaN  \n",
       "1048                        NaN          NaN        NaN        NaN        NaN  \n",
       "\n",
       "[1049 rows x 7 columns]"
      ]
     },
     "execution_count": 7,
     "metadata": {},
     "output_type": "execute_result"
    }
   ],
   "source": [
    "df.head(1049)"
   ]
  },
  {
   "cell_type": "code",
   "execution_count": 10,
   "id": "63b77243",
   "metadata": {},
   "outputs": [
    {
     "data": {
      "text/plain": [
       "Unnamed: 0    529\n",
       "Unnamed: 1    518\n",
       "              107\n",
       "Unnamed: 3    295\n",
       "Unnamed: 4    813\n",
       "Unnamed: 5    965\n",
       "Unnamed: 6    742\n",
       "dtype: int64"
      ]
     },
     "execution_count": 10,
     "metadata": {},
     "output_type": "execute_result"
    }
   ],
   "source": [
    "pd.isnull(df)\n",
    "pd.isnull(df).sum()\n"
   ]
  },
  {
   "cell_type": "code",
   "execution_count": 14,
   "id": "e34c4b55",
   "metadata": {},
   "outputs": [
    {
     "data": {
      "text/plain": [
       "<bound method NDFrame._add_numeric_operations.<locals>.prod of                                              Unnamed: 0 Unnamed: 1  \\\n",
       "0                                                   NaN        NaN   \n",
       "1                                                   NaN        NaN   \n",
       "2                                                   NaN        NaN   \n",
       "3                                                   NaN        NaN   \n",
       "4                                                   NaN        NaN   \n",
       "...                                                 ...        ...   \n",
       "1044                                               2024       2024   \n",
       "1045                                                NaN        NaN   \n",
       "1046  ?????? Please do not share your ATM, Debit/Cre...        NaN   \n",
       "1047  with anyone over mail, SMS, phone call or any ...        NaN   \n",
       "1048  ?? **This is a computer generated statement an...        NaN   \n",
       "\n",
       "                                  Unnamed: 3 Unnamed: 4 Unnamed: 5 Unnamed: 6  \n",
       "0                           NaN          NaN        NaN        NaN        NaN  \n",
       "1                           NaN          NaN        NaN        NaN        NaN  \n",
       "2                           NaN          NaN        NaN        NaN        NaN  \n",
       "3                           NaN          NaN        NaN        NaN        NaN  \n",
       "4                           NaN          NaN        NaN        NaN        NaN  \n",
       "...                         ...          ...        ...        ...        ...  \n",
       "1044  UPI/CR/447446133579/PURAM         FROM        NaN        NaN        NaN  \n",
       "1045  RA/UTIB/9908108060/Payme-  4.89773E+12        NaN        NaN        NaN  \n",
       "1046                        NaN          NaN        NaN        NaN        NaN  \n",
       "1047                        NaN          NaN        NaN        NaN        NaN  \n",
       "1048                        NaN          NaN        NaN        NaN        NaN  \n",
       "\n",
       "[1049 rows x 7 columns]>"
      ]
     },
     "execution_count": 14,
     "metadata": {},
     "output_type": "execute_result"
    }
   ],
   "source": [
    "df.product"
   ]
  },
  {
   "cell_type": "code",
   "execution_count": 17,
   "id": "2e75ae48",
   "metadata": {},
   "outputs": [],
   "source": [
    "df.rename(columns={'Unnamed: 0':'Txn Date','Unnamed: 1':'Value Date',' ':'Description','Unnamed: 3':'Ref No./Cheque','Unnamed: 4':'Debit','Unnamed: 5':'Credit','Unnamed: 6':'Balance'},inplace=True)"
   ]
  },
  {
   "cell_type": "code",
   "execution_count": 16,
   "id": "4c27fc30",
   "metadata": {},
   "outputs": [
    {
     "data": {
      "text/plain": [
       "Index(['Txn Date', 'Value Date', 'Description', 'Ref No./Cheque', 'Debit',\n",
       "       'Credit', 'Balance'],\n",
       "      dtype='object')"
      ]
     },
     "execution_count": 16,
     "metadata": {},
     "output_type": "execute_result"
    }
   ],
   "source": [
    "df.columns"
   ]
  },
  {
   "cell_type": "code",
   "execution_count": 18,
   "id": "08c8b53d",
   "metadata": {},
   "outputs": [
    {
     "name": "stdout",
     "output_type": "stream",
     "text": [
      "Txn Date\n",
      "Value Date\n",
      "Description\n",
      "Ref No./Cheque\n",
      "Debit\n",
      "Credit\n",
      "Balance\n"
     ]
    }
   ],
   "source": [
    "for col in df.columns:\n",
    "    print(col)"
   ]
  },
  {
   "cell_type": "code",
   "execution_count": 19,
   "id": "c3039437",
   "metadata": {},
   "outputs": [
    {
     "data": {
      "text/plain": [
       "['Txn Date',\n",
       " 'Value Date',\n",
       " 'Description',\n",
       " 'Ref No./Cheque',\n",
       " 'Debit',\n",
       " 'Credit',\n",
       " 'Balance']"
      ]
     },
     "execution_count": 19,
     "metadata": {},
     "output_type": "execute_result"
    }
   ],
   "source": [
    "df.columns.values.tolist()"
   ]
  },
  {
   "cell_type": "code",
   "execution_count": 20,
   "id": "26ed9258",
   "metadata": {},
   "outputs": [
    {
     "data": {
      "text/plain": [
       "Index(['Txn Date', 'Value Date', 'Description', 'Ref No./Cheque', 'Debit',\n",
       "       'Credit', 'Balance'],\n",
       "      dtype='object')"
      ]
     },
     "execution_count": 20,
     "metadata": {},
     "output_type": "execute_result"
    }
   ],
   "source": [
    "df.columns\n"
   ]
  },
  {
   "cell_type": "code",
   "execution_count": 21,
   "id": "835569dc",
   "metadata": {},
   "outputs": [
    {
     "data": {
      "text/plain": [
       "<Axes: xlabel='Debit', ylabel='count'>"
      ]
     },
     "execution_count": 21,
     "metadata": {},
     "output_type": "execute_result"
    },
    {
     "data": {
      "image/png": "[encoded data removed]",
      "text/plain": [
       "<Figure size 640x480 with 1 Axes>"
      ]
     },
     "metadata": {},
     "output_type": "display_data"
    }
   ],
   "source": [
    "sns.countplot(x='Debit',data=df)"
   ]
  },
  {
   "cell_type": "code",
   "execution_count": 22,
   "id": "d1a2f7ee",
   "metadata": {},
   "outputs": [
    {
     "data": {
      "image/png": "[encoded data removed]",
      "text/plain": [
       "<Figure size 640x480 with 1 Axes>"
      ]
     },
     "metadata": {},
     "output_type": "display_data"
    }
   ],
   "source": [
    "ax=sns.countplot(x='Debit',data=df)\n",
    "for bars in ax.containers:\n",
    "    ax.bar_label(bars)"
   ]
  },
  {
   "cell_type": "code",
   "execution_count": 19,
   "id": "b0a5c5e1",
   "metadata": {},
   "outputs": [
    {
     "name": "stdout",
     "output_type": "stream",
     "text": [
      "0      NaN\n",
      "1      NaN\n",
      "2      NaN\n",
      "3      NaN\n",
      "4      NaN\n",
      "        ..\n",
      "1044   NaN\n",
      "1045   NaN\n",
      "1046   NaN\n",
      "1047   NaN\n",
      "1048   NaN\n",
      "Name: Debit, Length: 1049, dtype: float64\n"
     ]
    }
   ],
   "source": [
    "df['Debit'] = pd.to_numeric(df['Debit'], errors='coerce')\n",
    "a=df['Debit'] = df['Debit'] + 1\n",
    "print(a)"
   ]
  },
  {
   "cell_type": "code",
   "execution_count": 50,
   "id": "b6bb7994",
   "metadata": {},
   "outputs": [
    {
     "name": "stdout",
     "output_type": "stream",
     "text": [
      "978772.5700000001\n"
     ]
    },
    {
     "data": {
      "text/plain": [
       "<function matplotlib.pyplot.show(close=None, block=None)>"
      ]
     },
     "execution_count": 50,
     "metadata": {},
     "output_type": "execute_result"
    },
    {
     "data": {
      "image/png": "[encoded data removed]",
      "text/plain": [
       "<Figure size 640x480 with 1 Axes>"
      ]
     },
     "metadata": {},
     "output_type": "display_data"
    }
   ],
   "source": [
    "Total_value=df['Debit'].sum()\n",
    "print(Total_value)\n",
    "\n",
    "\n",
    "ax=sns.barplot(x=['Total_Value'], y=[Total_value], color='yellow')\n",
    "for bars in ax.containers:\n",
    "    ax.bar_label(bars)\n",
    "\n",
    "plt.title('Azar EngineerTool PvtLtd Bank  Debits transection Total Value from 2/january/2024   To 17/april/2024')\n",
    "\n",
    "plt.show\n",
    "\n",
    " \n"
   ]
  },
  {
   "cell_type": "code",
   "execution_count": null,
   "id": "8a8a72c1",
   "metadata": {},
   "outputs": [],
   "source": []
  }
 ],
 "metadata": {
  "kernelspec": {
   "display_name": "Python 3 (ipykernel)",
   "language": "python",
   "name": "python3"
  },
  "language_info": {
   "codemirror_mode": {
    "name": "ipython",
    "version": 3
   },
   "file_extension": ".py",
   "mimetype": "text/x-python",
   "name": "python",
   "nbconvert_exporter": "python",
   "pygments_lexer": "ipython3",
   "version": "3.10.5"
  }
 },
 "nbformat": 4,
 "nbformat_minor": 5
}
